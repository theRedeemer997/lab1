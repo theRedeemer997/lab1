{
 "cells": [
  {
   "cell_type": "markdown",
   "id": "8b6a7778",
   "metadata": {},
   "source": [
    "# Lab1  - Manu Mathew - 8990691"
   ]
  },
  {
   "cell_type": "markdown",
   "id": "44cba03e",
   "metadata": {},
   "source": [
    "### Part A"
   ]
  },
  {
   "cell_type": "markdown",
   "id": "fd8a15d8",
   "metadata": {},
   "source": [
    "#### Adding the necessary imports"
   ]
  },
  {
   "cell_type": "code",
   "execution_count": 1,
   "id": "e5193862",
   "metadata": {},
   "outputs": [],
   "source": [
    "import numpy as np"
   ]
  },
  {
   "cell_type": "markdown",
   "id": "f5515e52",
   "metadata": {},
   "source": [
    "#### 2. Create an array that starts from the integer 1, ends at 20, incremented by 3."
   ]
  },
  {
   "cell_type": "code",
   "execution_count": 2,
   "id": "efb9cff0",
   "metadata": {},
   "outputs": [
    {
     "name": "stdout",
     "output_type": "stream",
     "text": [
      "The array of integers that starts from the integer 1, ends at 20 , incremented by 3 is [ 1  4  7 10 13 16 19]\n"
     ]
    }
   ],
   "source": [
    "arrayOfIntegers = np.arange(1,21,3)\n",
    "print(\"The array of integers that starts from the integer 1, ends at 20 , incremented by 3 is\", arrayOfIntegers)"
   ]
  },
  {
   "cell_type": "markdown",
   "id": "dbb6151f",
   "metadata": {},
   "source": [
    "#### 3. Create a new array of shape 3 with random numbers between 0 and 1."
   ]
  },
  {
   "cell_type": "code",
   "execution_count": 3,
   "id": "bf09284c",
   "metadata": {},
   "outputs": [
    {
     "name": "stdout",
     "output_type": "stream",
     "text": [
      "The array of shape 3 of random numbers between 0 and 1 is  [0.09691161 0.32894305 0.97429115]\n"
     ]
    }
   ],
   "source": [
    "arrayOfRandomNumbers = np.random.rand(3)\n",
    "print(\"The array of shape 3 of random numbers between 0 and 1 is \",arrayOfRandomNumbers)"
   ]
  },
  {
   "cell_type": "markdown",
   "id": "083d6a14",
   "metadata": {},
   "source": [
    "#### 4. Create a 2 D array [[10,20,45], [30,12,16], [42,17,56]] and perform the following operations:  Slice the 2D array to get the first two rows, slice the 2D array to get the last two rows."
   ]
  },
  {
   "cell_type": "code",
   "execution_count": 4,
   "id": "7abb696e",
   "metadata": {},
   "outputs": [
    {
     "name": "stdout",
     "output_type": "stream",
     "text": [
      "The 2D array is :\n",
      " [[10 20 45]\n",
      " [30 12 16]\n",
      " [42 17 56]]\n",
      "Slicing the array to get the first two rows and the last two rows.\n",
      "The first two rows are : \n",
      " [[10 20 45]\n",
      " [30 12 16]]\n",
      "The last two rows are : \n",
      " [[30 12 16]\n",
      " [42 17 56]]\n"
     ]
    }
   ],
   "source": [
    "twoDimentionalArray = np.array([[10,20,45], [30,12,16], [42,17,56]])\n",
    "print(\"The 2D array is :\\n\", twoDimentionalArray)\n",
    "print(\"Slicing the array to get the first two rows and the last two rows.\")\n",
    "print(\"The first two rows are : \\n\", twoDimentionalArray[:2])\n",
    "print(\"The last two rows are : \\n\", twoDimentionalArray[1:])\n"
   ]
  },
  {
   "cell_type": "markdown",
   "id": "2a8e52a9",
   "metadata": {},
   "source": [
    "#### 5. Create two 2x2 arrays and demonstrate how you can stack the elements vertically, horizontally, and split the arrays into smaller arrays."
   ]
  },
  {
   "cell_type": "markdown",
   "id": "04f292aa",
   "metadata": {},
   "source": [
    "- Stacking the elements vertically means stacking one array on top of another and stacking the elements horizontally means stacking the array beside one another."
   ]
  },
  {
   "cell_type": "code",
   "execution_count": 5,
   "id": "61e98ee2",
   "metadata": {},
   "outputs": [
    {
     "name": "stdout",
     "output_type": "stream",
     "text": [
      "The two 2 X 2 arrays are: \n",
      " [[10 14]\n",
      " [ 1  2]] \n",
      " \n",
      " [[18 16]\n",
      " [ 3  4]] \n",
      "\n",
      "Stacking the elements vertically means placing one array on the top of other. \n",
      "\n",
      "[[10 14]\n",
      " [ 1  2]\n",
      " [18 16]\n",
      " [ 3  4]] \n",
      "\n",
      "Stacking the elements horizontally means placing one array next to the other. \n",
      "\n",
      "[[10 14 18 16]\n",
      " [ 1  2  3  4]] \n",
      "\n",
      "Splitting the vertically stacked arrays means splitting into two equal halves by row. \n",
      "\n",
      "[[10 14]\n",
      " [ 1  2]] \n",
      "\n",
      "[[18 16]\n",
      " [ 3  4]] \n",
      "\n",
      "Splitting the horizontally stacked arrays means means splitting into two equal halves by column. \n",
      "\n",
      "[[10 14]\n",
      " [ 1  2]] \n",
      "\n",
      "[[18 16]\n",
      " [ 3  4]] \n",
      "\n"
     ]
    }
   ],
   "source": [
    "\n",
    "firstTwoCrossTwoArray = np.array([[10,14], [1,2]])\n",
    "secondTwoCrossTwoArray = np.array([[18,16], [3,4]])\n",
    "print('The two 2 X 2 arrays are: \\n', firstTwoCrossTwoArray, '\\n \\n', secondTwoCrossTwoArray, '\\n')\n",
    "\n",
    "print('Stacking the elements vertically means placing one array on the top of other. \\n')\n",
    "verticalStackedElements = np.vstack((firstTwoCrossTwoArray,secondTwoCrossTwoArray))\n",
    "print(verticalStackedElements, '\\n')\n",
    "\n",
    "print('Stacking the elements horizontally means placing one array next to the other. \\n')\n",
    "horizontallyStackedElements = np.hstack((firstTwoCrossTwoArray,secondTwoCrossTwoArray))\n",
    "print(horizontallyStackedElements, '\\n')\n",
    "\n",
    "print('Splitting the vertically stacked arrays means splitting into two equal halves by row. \\n')\n",
    "verticallySplitElements = np.vsplit(verticalStackedElements,2)\n",
    "for vArr in verticallySplitElements:\n",
    "    print(vArr,\"\\n\")\n",
    "\n",
    "\n",
    "print('Splitting the horizontally stacked arrays means means splitting into two equal halves by column. \\n')\n",
    "horizontallySplitElements = np.hsplit(horizontallyStackedElements,2)\n",
    "for hArr in horizontallySplitElements:\n",
    "    print(hArr, \"\\n\")"
   ]
  },
  {
   "cell_type": "markdown",
   "id": "6664b8ef",
   "metadata": {},
   "source": [
    "#### 6. Create two matrices X= ([[5, 7, 2], [4, 5, 6], [7, 4 ,2]]) Y= ([[4, 2], [6, 2], [4, 2]]), Is it possible to multiply these matrices?. Demonstrate the case when it is not possible to."
   ]
  },
  {
   "cell_type": "markdown",
   "id": "36499eaf",
   "metadata": {},
   "source": [
    "- Yes it is possible to muliply because the number of columns in matrix x is qual to number of rows in y. To demonstrate where the matrix multiplication is not possible, let us take two examples of matrices where matrix a =  [[5 7 2]\n",
    " [4 5 6]]  and b =   [[4 2]\n",
    " [6 2]]  and the error encoutered there is shapes (2,3) and (2,2) not aligned: 3 (dim 1) != 2 (dim 0) and this is \" \\\n",
    "\"because the number of columns in matrix a is not equal to number of rows in matrix b. Commenting the line below for successful execution of all cells"
   ]
  },
  {
   "cell_type": "code",
   "execution_count": 6,
   "id": "5858f9f9",
   "metadata": {},
   "outputs": [
    {
     "name": "stdout",
     "output_type": "stream",
     "text": [
      "Yes it is possible to muliply because the number of columns in matrix x is qual to number of rows in y.\n",
      "Multiplying matrix x and matrix y :\n",
      "[[70 28]\n",
      " [70 30]\n",
      " [60 26]] \n",
      "\n",
      "To demonstrate where the matrix multiplication is not possible, let us take two examples of matrices where matrix a  is \n",
      " [[5 7 2]\n",
      " [4 5 6]] \n",
      " \n",
      " matrix b is \n",
      "  [[4 2]\n",
      " [6 2]]\n",
      "We encounter an erro here. The error message is shapes (2,3) and (2,2) not aligned: 3 (dim 1) != 2 (dim 0) and this is because the number of columns in matrix a is not equal to number of rows in matrix b. Commenting the line below for successful execution of all cells\n"
     ]
    }
   ],
   "source": [
    "x = np.array([[5, 7, 2], [4, 5, 6], [7, 4 ,2]])\n",
    "y = np.array([[4, 2], [6, 2], [4, 2]])\n",
    "print(\"Yes it is possible to muliply because the number of columns in matrix x is qual to number of rows in y.\")\n",
    "print(\"Multiplying matrix x and matrix y :\")\n",
    "finalProduct = np.dot(x,y)\n",
    "print(finalProduct,\"\\n\")\n",
    "a = np.array([[5, 7, 2], [4, 5, 6]])\n",
    "b = np.array([[4, 2], [6, 2]])\n",
    "print(\"To demonstrate where the matrix multiplication is not possible, let us take two examples of matrices where matrix a  is \\n\", a,\"\\n\" , \"\\n matrix b is \\n \", b)\n",
    "print(\"We encounter an erro here. The error message is shapes (2,3) and (2,2) not aligned: 3 (dim 1) != 2 (dim 0) and this is \" \\\n",
    "\"because the number of columns in matrix a is not equal to number of rows in matrix b. Commenting the line below for successful execution of all cells\")\n",
    "# matMultiplication = np.dot(a,b)\n"
   ]
  },
  {
   "cell_type": "markdown",
   "id": "802f23d4",
   "metadata": {},
   "source": [
    "####   7. Create two arrays, x = ([2, -1, -8]) y = ([3, 1, -2]), Find the Shape, Number of dimensions of vector x. Reshape the vector x to a matrix of size (3,1) and determine the number of dimensions after reshaping y to a matrix of (3,1)."
   ]
  },
  {
   "cell_type": "code",
   "execution_count": 7,
   "id": "1c87cc08",
   "metadata": {},
   "outputs": [
    {
     "name": "stdout",
     "output_type": "stream",
     "text": [
      "Shape of vector x\n",
      "(3,) \n",
      "\n",
      "Dimensions of vector x\n",
      "1 \n",
      "\n",
      "Reshaping the vector x to a matrix of size (3,1)\n",
      "[[ 2]\n",
      " [-1]\n",
      " [-8]] \n",
      "\n",
      "Reshaping the vector y to a matrix of (3,1)\n",
      "[[ 3]\n",
      " [ 1]\n",
      " [-2]]\n"
     ]
    }
   ],
   "source": [
    "x = np.array([2,-1,-8])\n",
    "y = np.array([3,1,-2])\n",
    "\n",
    "print(\"Shape of vector x\")\n",
    "print(x.shape, \"\\n\")\n",
    "\n",
    "print(\"Dimensions of vector x\")\n",
    "print(x.ndim,\"\\n\")\n",
    "\n",
    "print(\"Reshaping the vector x to a matrix of size (3,1)\")\n",
    "print(x.reshape(3,1), \"\\n\")\n",
    "\n",
    "print(\"Reshaping the vector y to a matrix of (3,1)\")\n",
    "print(y.reshape(3,1))\n"
   ]
  },
  {
   "cell_type": "markdown",
   "id": "0304eb36",
   "metadata": {},
   "source": [
    "#### 8. How does broadcasting work? Demonstrate the subtraction, multiplication by considering a 3 x 3 matrix."
   ]
  },
  {
   "cell_type": "markdown",
   "id": "311ffc02",
   "metadata": {},
   "source": [
    "- Broadcasting in NumPy helps in arithmetic operations between arrays of different shapes by automatically expands the smaller array to match the shape of the larger one without copying data, provided the shapes are compatible ,if they are equal to or one of them is 1."
   ]
  },
  {
   "cell_type": "code",
   "execution_count": 8,
   "id": "a30296e9",
   "metadata": {},
   "outputs": [
    {
     "name": "stdout",
     "output_type": "stream",
     "text": [
      "The matrices are matrix m \n",
      " [[11 12 13]\n",
      " [14 15 16]\n",
      " [17 18 19]] \n",
      " and the matrix n \n",
      " [1 2 3]\n",
      "The product of two matrix are \n",
      " [[11 24 39]\n",
      " [14 30 48]\n",
      " [17 36 57]]\n",
      "The difference of two matrix are \n",
      " [[10 10 10]\n",
      " [13 13 13]\n",
      " [16 16 16]]\n"
     ]
    }
   ],
   "source": [
    "m = np.array([[11, 12, 13],\n",
    "              [14, 15, 16],\n",
    "              [17,18,19]])\n",
    "\n",
    "n = np.array([1, 2, 3])\n",
    "\n",
    "print(\"The matrices are matrix m \\n\", m,\"\\n and the matrix n \\n\",n)\n",
    "\n",
    "print(\"The product of two matrix are \\n\", m*n)\n",
    "\n",
    "print(\"The difference of two matrix are \\n\", m-n)\n"
   ]
  },
  {
   "cell_type": "markdown",
   "id": "f2107803",
   "metadata": {},
   "source": [
    "#### 9.  Brief overview of the steps from 1 to 8"
   ]
  },
  {
   "cell_type": "markdown",
   "id": "6c0042f7",
   "metadata": {},
   "source": [
    "In this assignment I, are using the numpy library and so I have imported the numpy library and then according to challenge two I created an array that starts with integer 1 and ends at 20 incremented by 3. And then according to the challenge 3, I created an array of shape 3 with random numbers between 0 and 1. And then in challenge 4, I created a  2D array [[10,20,45], [30,12,16], [42,17,56]] and sliced the 2D array to get the first two rows, slice the 2D array to get the last two rows.And then I created a two 2 X 2 arrays and demonstrated how I can stack the elements horizontally vertically and split the arrays to smaller arrays. And then I created two  matrices X= ([[5, 7, 2], [4, 5, 6], [7, 4 ,2]]) Y= ([[4, 2], [6, 2], [4, 2]]) and I multiplied them and also demonstrated the case when the multiplication of matrices are not possible. And then according to the next challenge I created two arrays  x = ([2, -1, -8]) y = ([3, 1, -2]), found the Shape, Number of dimensions of vector x. Reshaped the vector x to a matrix of size (3,1) and determine the number of dimensions after reshaping y to a matrix of (3,1). Finally I have explained how, does the broacasting work and I have demonstrated substraction and multiplication by considering a 3 X 3 matrix."
   ]
  },
  {
   "cell_type": "markdown",
   "id": "94bdcbd7",
   "metadata": {},
   "source": [
    "#### 9. Brief overview on graphs"
   ]
  },
  {
   "cell_type": "markdown",
   "id": "12025c82",
   "metadata": {},
   "source": [
    "- Line Plot: Displays trends in data over time or on a continuous scale by connecting different points.\n",
    "\n",
    "- Scatter Plot: Shows the relaionship between two numerical values in which each dot represents a distinct data point.  \n",
    "\n",
    "- Bar Chart: Uses bars whose lengths correspond to their values to highlight to highlight changes at particular intervals.\n",
    "\n",
    "- Histogram: Represents how many values fall into each bin to represent the distribution of a single numerical variable."
   ]
  },
  {
   "cell_type": "markdown",
   "id": "609f0d0d",
   "metadata": {},
   "source": [
    "### Part B"
   ]
  },
  {
   "cell_type": "markdown",
   "id": "8fa140f6",
   "metadata": {},
   "source": [
    "#### 1. Solve the following two system of linear equations using matrices (find the values of x1 and x2) and determine the number of solutions using the functions. 2x1+3x2-4x3=6,x1-4x2=8 , 3y1-4y2+5y3=10,-y1+2y2-4y3=8"
   ]
  },
  {
   "cell_type": "code",
   "execution_count": 9,
   "id": "fef4462b",
   "metadata": {},
   "outputs": [
    {
     "name": "stdout",
     "output_type": "stream",
     "text": [
      "The value of x1 is 1.669211195928752\n",
      "The value of x2 is -1.5826972010178109\n",
      "The value of x3 is -1.852417302798981\n",
      "Residuals: []\n",
      "Rank of matrix A: 2\n",
      "Infinite solutions\n"
     ]
    }
   ],
   "source": [
    "first_Matrix = np.array([[2, 3, -4],\n",
    "               [1, -4, 0]])\n",
    "second_Matrix = np.array([6, 8])\n",
    "x1ForFirstEquations , firstResiduals, firstRank, s = np.linalg.lstsq(first_Matrix, second_Matrix, rcond=None)\n",
    "aB = np.hstack((first_Matrix, second_Matrix.reshape(-1, 1)))\n",
    "rank_aB = np.linalg.matrix_rank(aB)\n",
    "\n",
    "x1, x2, x3 = x1ForFirstEquations\n",
    "print(\"The value of x1 is\", x1)\n",
    "print(\"The value of x2 is\", x2)\n",
    "print(\"The value of x3 is\", x3)\n",
    "print(\"Residuals:\", firstResiduals)\n",
    "print(\"Rank of matrix A:\", firstRank)\n",
    "\n",
    "if firstRank == rank_aB:\n",
    "    if firstRank < first_Matrix.shape[1]:\n",
    "        print(\"Infinite solutions\")\n",
    "    else:\n",
    "        print(\"Unique solution\")\n",
    "else:\n",
    "    print(\"No solution\")"
   ]
  },
  {
   "cell_type": "code",
   "execution_count": 10,
   "id": "f2b25b7a",
   "metadata": {},
   "outputs": [
    {
     "name": "stdout",
     "output_type": "stream",
     "text": [
      "The value of x1 is 7.460674157303374\n",
      "The value of x2 is -4.629213483146074\n",
      "The value of x3 is -6.179775280898881\n",
      "Residuals: []\n",
      "Rank of matrix A: 2\n",
      "Infinite solutions\n"
     ]
    }
   ],
   "source": [
    "MatrixA = np.array([[3, -4, 5],\n",
    "               [-1, 2, -4]])\n",
    "MatrixB = np.array([10, 8])\n",
    "x , secResiduals, secRank, s = np.linalg.lstsq(MatrixA, MatrixB, rcond=None)\n",
    "bC = np.hstack((MatrixA, MatrixB.reshape(-1, 1)))\n",
    "rank_bC = np.linalg.matrix_rank(bC)\n",
    "\n",
    "x1, x2, x3 = x\n",
    "print(\"The value of x1 is\", x1)\n",
    "print(\"The value of x2 is\", x2)\n",
    "print(\"The value of x3 is\", x3)\n",
    "print(\"Residuals:\", secResiduals)\n",
    "print(\"Rank of matrix A:\", secRank)\n",
    "if secRank == rank_bC:\n",
    "    if firstRank < MatrixA.shape[1]:\n",
    "        print(\"Infinite solutions\")\n",
    "    else:\n",
    "        print(\"Unique solution\")\n",
    "else:\n",
    "    print(\"No solution\")"
   ]
  }
 ],
 "metadata": {
  "kernelspec": {
   "display_name": "Python 3",
   "language": "python",
   "name": "python3"
  },
  "language_info": {
   "codemirror_mode": {
    "name": "ipython",
    "version": 3
   },
   "file_extension": ".py",
   "mimetype": "text/x-python",
   "name": "python",
   "nbconvert_exporter": "python",
   "pygments_lexer": "ipython3",
   "version": "3.13.3"
  }
 },
 "nbformat": 4,
 "nbformat_minor": 5
}
