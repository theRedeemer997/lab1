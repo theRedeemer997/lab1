{
 "cells": [
  {
   "cell_type": "code",
   "execution_count": 2,
   "id": "be144e00",
   "metadata": {},
   "outputs": [],
   "source": [
    "import numpy as np\n"
   ]
  },
  {
   "cell_type": "markdown",
   "id": "aa0461ac",
   "metadata": {},
   "source": [
    "Numpy Arrays"
   ]
  },
  {
   "cell_type": "code",
   "execution_count": 3,
   "id": "60d54a84",
   "metadata": {},
   "outputs": [],
   "source": [
    "V= np.array([ 65,1,56])"
   ]
  },
  {
   "cell_type": "code",
   "execution_count": 4,
   "id": "1172fcc0",
   "metadata": {},
   "outputs": [
    {
     "data": {
      "text/plain": [
       "array([65,  1, 56])"
      ]
     },
     "execution_count": 4,
     "metadata": {},
     "output_type": "execute_result"
    }
   ],
   "source": [
    "V\n"
   ]
  },
  {
   "cell_type": "code",
   "execution_count": 5,
   "id": "1b240354",
   "metadata": {},
   "outputs": [],
   "source": [
    "c= [(0.1,0.2,0.5)]\n"
   ]
  },
  {
   "cell_type": "code",
   "execution_count": 6,
   "id": "54129ef0",
   "metadata": {},
   "outputs": [
    {
     "data": {
      "text/plain": [
       "[(0.1, 0.2, 0.5)]"
      ]
     },
     "execution_count": 6,
     "metadata": {},
     "output_type": "execute_result"
    }
   ],
   "source": [
    "c"
   ]
  },
  {
   "cell_type": "code",
   "execution_count": 7,
   "id": "73b6c2c8",
   "metadata": {},
   "outputs": [],
   "source": [
    "B = V * c"
   ]
  },
  {
   "cell_type": "code",
   "execution_count": 8,
   "id": "1b798784",
   "metadata": {},
   "outputs": [
    {
     "data": {
      "text/plain": [
       "array([[ 6.5,  0.2, 28. ]])"
      ]
     },
     "execution_count": 8,
     "metadata": {},
     "output_type": "execute_result"
    }
   ],
   "source": [
    "B"
   ]
  },
  {
   "cell_type": "code",
   "execution_count": 9,
   "id": "81dd918b",
   "metadata": {},
   "outputs": [],
   "source": [
    "Data=np.array([[65,1,56],\n",
    "               [45,4,64],\n",
    "               [78,4,59],\n",
    "               [56,3,34],\n",
    "               [79,2,36]])"
   ]
  },
  {
   "cell_type": "code",
   "execution_count": 10,
   "id": "c03b9db8",
   "metadata": {},
   "outputs": [
    {
     "data": {
      "text/plain": [
       "(5, 3)"
      ]
     },
     "execution_count": 10,
     "metadata": {},
     "output_type": "execute_result"
    }
   ],
   "source": [
    "Data.shape"
   ]
  },
  {
   "cell_type": "code",
   "execution_count": 11,
   "id": "b9f1cb6a",
   "metadata": {},
   "outputs": [
    {
     "data": {
      "text/plain": [
       "dtype('int32')"
      ]
     },
     "execution_count": 11,
     "metadata": {},
     "output_type": "execute_result"
    }
   ],
   "source": [
    "Data.dtype\n"
   ]
  },
  {
   "cell_type": "code",
   "execution_count": 13,
   "id": "51f3d3fb",
   "metadata": {},
   "outputs": [
    {
     "data": {
      "text/plain": [
       "array([[0., 0.],\n",
       "       [0., 0.],\n",
       "       [0., 0.]])"
      ]
     },
     "execution_count": 13,
     "metadata": {},
     "output_type": "execute_result"
    }
   ],
   "source": [
    "np.zeros((3,2))"
   ]
  },
  {
   "cell_type": "code",
   "execution_count": 14,
   "id": "c9de2477",
   "metadata": {},
   "outputs": [
    {
     "data": {
      "text/plain": [
       "array([[[1., 1.],\n",
       "        [1., 1.]],\n",
       "\n",
       "       [[1., 1.],\n",
       "        [1., 1.]]])"
      ]
     },
     "execution_count": 14,
     "metadata": {},
     "output_type": "execute_result"
    }
   ],
   "source": [
    "np.ones([2,2,2])"
   ]
  },
  {
   "cell_type": "code",
   "execution_count": 15,
   "id": "2ffecbac",
   "metadata": {},
   "outputs": [
    {
     "data": {
      "text/plain": [
       "array([[1., 0., 0.],\n",
       "       [0., 1., 0.],\n",
       "       [0., 0., 1.]])"
      ]
     },
     "execution_count": 15,
     "metadata": {},
     "output_type": "execute_result"
    }
   ],
   "source": [
    "np.eye(3)"
   ]
  },
  {
   "cell_type": "code",
   "execution_count": 16,
   "id": "e2dcf84f",
   "metadata": {},
   "outputs": [
    {
     "data": {
      "text/plain": [
       "array([0.98096337, 0.59863086, 0.79360263, 0.47330285, 0.68393305,\n",
       "       0.46965034])"
      ]
     },
     "execution_count": 16,
     "metadata": {},
     "output_type": "execute_result"
    }
   ],
   "source": [
    "np.random.rand(6)"
   ]
  },
  {
   "cell_type": "code",
   "execution_count": 17,
   "id": "4205aad7",
   "metadata": {},
   "outputs": [
    {
     "data": {
      "text/plain": [
       "array([[ 0.11677497, -1.03562117,  1.23034785, -1.30363789],\n",
       "       [ 0.04717998, -0.89732875,  0.18903808,  2.9285629 ]])"
      ]
     },
     "execution_count": 17,
     "metadata": {},
     "output_type": "execute_result"
    }
   ],
   "source": [
    "np.random.randn(2,4)"
   ]
  },
  {
   "cell_type": "code",
   "execution_count": 18,
   "id": "b5888cbc",
   "metadata": {},
   "outputs": [
    {
     "data": {
      "text/plain": [
       "array([ 5, 13, 21, 29, 37])"
      ]
     },
     "execution_count": 18,
     "metadata": {},
     "output_type": "execute_result"
    }
   ],
   "source": [
    "np.arange(5, 45, 8)"
   ]
  },
  {
   "cell_type": "code",
   "execution_count": 20,
   "id": "b994dd1f",
   "metadata": {},
   "outputs": [
    {
     "data": {
      "text/plain": [
       "array([[66, 66],\n",
       "       [66, 66],\n",
       "       [66, 66]])"
      ]
     },
     "execution_count": 20,
     "metadata": {},
     "output_type": "execute_result"
    }
   ],
   "source": [
    "np.full([3,2],66)"
   ]
  },
  {
   "cell_type": "code",
   "execution_count": 22,
   "id": "82cd77ef",
   "metadata": {},
   "outputs": [
    {
     "data": {
      "text/plain": [
       "array([ 5.        ,  6.36363636,  7.72727273,  9.09090909, 10.45454545,\n",
       "       11.81818182, 13.18181818, 14.54545455, 15.90909091, 17.27272727,\n",
       "       18.63636364, 20.        ])"
      ]
     },
     "execution_count": 22,
     "metadata": {},
     "output_type": "execute_result"
    }
   ],
   "source": [
    "np.linspace(5, 20 ,12)"
   ]
  },
  {
   "cell_type": "code",
   "execution_count": 26,
   "id": "c7760b2e",
   "metadata": {},
   "outputs": [],
   "source": [
    "x=np.array([10,20,30])"
   ]
  },
  {
   "cell_type": "code",
   "execution_count": 27,
   "id": "54dc4239",
   "metadata": {},
   "outputs": [
    {
     "data": {
      "text/plain": [
       "array([10, 20, 30])"
      ]
     },
     "execution_count": 27,
     "metadata": {},
     "output_type": "execute_result"
    }
   ],
   "source": [
    "x"
   ]
  },
  {
   "cell_type": "code",
   "execution_count": 28,
   "id": "25f59073",
   "metadata": {},
   "outputs": [
    {
     "data": {
      "text/plain": [
       "1"
      ]
     },
     "execution_count": 28,
     "metadata": {},
     "output_type": "execute_result"
    }
   ],
   "source": [
    "x.ndim"
   ]
  },
  {
   "cell_type": "code",
   "execution_count": 29,
   "id": "6eaa079a",
   "metadata": {},
   "outputs": [
    {
     "data": {
      "text/plain": [
       "4"
      ]
     },
     "execution_count": 29,
     "metadata": {},
     "output_type": "execute_result"
    }
   ],
   "source": [
    "x.itemsize"
   ]
  },
  {
   "cell_type": "code",
   "execution_count": 30,
   "id": "b3bd707b",
   "metadata": {},
   "outputs": [
    {
     "data": {
      "text/plain": [
       "dtype('int32')"
      ]
     },
     "execution_count": 30,
     "metadata": {},
     "output_type": "execute_result"
    }
   ],
   "source": [
    "x.dtype"
   ]
  },
  {
   "cell_type": "code",
   "execution_count": 31,
   "id": "df921c0c",
   "metadata": {},
   "outputs": [],
   "source": [
    "y=( [ 3,5],[4,6],[8,9])"
   ]
  },
  {
   "cell_type": "code",
   "execution_count": 32,
   "id": "1c93eb27",
   "metadata": {},
   "outputs": [
    {
     "data": {
      "text/plain": [
       "([3, 5], [4, 6], [8, 9])"
      ]
     },
     "execution_count": 32,
     "metadata": {},
     "output_type": "execute_result"
    }
   ],
   "source": [
    "y"
   ]
  },
  {
   "cell_type": "markdown",
   "id": "de7414c8",
   "metadata": {},
   "source": [
    "dtype=complex"
   ]
  },
  {
   "cell_type": "code",
   "execution_count": 37,
   "id": "00588292",
   "metadata": {},
   "outputs": [],
   "source": [
    "y=np.array([[3,5],[4,6],[8,9]],dtype=np.float64)"
   ]
  },
  {
   "cell_type": "code",
   "execution_count": 38,
   "id": "4dfd04fa",
   "metadata": {},
   "outputs": [
    {
     "data": {
      "text/plain": [
       "array([[3., 5.],\n",
       "       [4., 6.],\n",
       "       [8., 9.]])"
      ]
     },
     "execution_count": 38,
     "metadata": {},
     "output_type": "execute_result"
    }
   ],
   "source": [
    "y"
   ]
  },
  {
   "cell_type": "code",
   "execution_count": 39,
   "id": "580f8c73",
   "metadata": {},
   "outputs": [
    {
     "data": {
      "text/plain": [
       "(3, 2)"
      ]
     },
     "execution_count": 39,
     "metadata": {},
     "output_type": "execute_result"
    }
   ],
   "source": [
    "y.shape"
   ]
  },
  {
   "cell_type": "code",
   "execution_count": 40,
   "id": "526f0e05",
   "metadata": {},
   "outputs": [
    {
     "data": {
      "text/plain": [
       "array([[3., 5., 4.],\n",
       "       [6., 8., 9.]])"
      ]
     },
     "execution_count": 40,
     "metadata": {},
     "output_type": "execute_result"
    }
   ],
   "source": [
    "y.reshape(2,3)"
   ]
  },
  {
   "cell_type": "markdown",
   "id": "7383d6bc",
   "metadata": {},
   "source": [
    "ravel- flattens array into one dimesional array,it returns a new array"
   ]
  },
  {
   "cell_type": "code",
   "execution_count": 41,
   "id": "8d351940",
   "metadata": {},
   "outputs": [
    {
     "data": {
      "text/plain": [
       "array([3., 5., 4., 6., 8., 9.])"
      ]
     },
     "execution_count": 41,
     "metadata": {},
     "output_type": "execute_result"
    }
   ],
   "source": [
    "y.ravel()\n"
   ]
  },
  {
   "cell_type": "code",
   "execution_count": 42,
   "id": "08c63c67",
   "metadata": {},
   "outputs": [
    {
     "data": {
      "text/plain": [
       "array([[3., 5.],\n",
       "       [4., 6.],\n",
       "       [8., 9.]])"
      ]
     },
     "execution_count": 42,
     "metadata": {},
     "output_type": "execute_result"
    }
   ],
   "source": [
    "y"
   ]
  },
  {
   "cell_type": "code",
   "execution_count": 46,
   "id": "7a69f6c8",
   "metadata": {},
   "outputs": [
    {
     "data": {
      "text/plain": [
       "3.0"
      ]
     },
     "execution_count": 46,
     "metadata": {},
     "output_type": "execute_result"
    }
   ],
   "source": [
    "y.min()"
   ]
  },
  {
   "cell_type": "code",
   "execution_count": 47,
   "id": "daad1b70",
   "metadata": {},
   "outputs": [
    {
     "data": {
      "text/plain": [
       "9.0"
      ]
     },
     "execution_count": 47,
     "metadata": {},
     "output_type": "execute_result"
    }
   ],
   "source": [
    "y.max()"
   ]
  },
  {
   "cell_type": "code",
   "execution_count": 49,
   "id": "23a83e44",
   "metadata": {},
   "outputs": [
    {
     "data": {
      "text/plain": [
       "35.0"
      ]
     },
     "execution_count": 49,
     "metadata": {},
     "output_type": "execute_result"
    }
   ],
   "source": [
    "y.sum()"
   ]
  },
  {
   "cell_type": "markdown",
   "id": "61fab517",
   "metadata": {},
   "source": [
    "Column wise sum:axis=0"
   ]
  },
  {
   "cell_type": "code",
   "execution_count": 50,
   "id": "4f451909",
   "metadata": {},
   "outputs": [
    {
     "data": {
      "text/plain": [
       "array([15., 20.])"
      ]
     },
     "execution_count": 50,
     "metadata": {},
     "output_type": "execute_result"
    }
   ],
   "source": [
    "y.sum(axis=0)"
   ]
  },
  {
   "cell_type": "markdown",
   "id": "8e9886a8",
   "metadata": {},
   "source": [
    "Row wise sum:axis=1"
   ]
  },
  {
   "cell_type": "code",
   "execution_count": 51,
   "id": "bc825e22",
   "metadata": {},
   "outputs": [
    {
     "data": {
      "text/plain": [
       "array([ 8., 10., 17.])"
      ]
     },
     "execution_count": 51,
     "metadata": {},
     "output_type": "execute_result"
    }
   ],
   "source": [
    "y.sum(axis=1)"
   ]
  },
  {
   "cell_type": "markdown",
   "id": "665d19ab",
   "metadata": {},
   "source": [
    "Find the squareroot of each element in the array"
   ]
  },
  {
   "cell_type": "code",
   "execution_count": 52,
   "id": "580b27a1",
   "metadata": {
    "scrolled": true
   },
   "outputs": [
    {
     "data": {
      "text/plain": [
       "array([[1.73205081, 2.23606798],\n",
       "       [2.        , 2.44948974],\n",
       "       [2.82842712, 3.        ]])"
      ]
     },
     "execution_count": 52,
     "metadata": {},
     "output_type": "execute_result"
    }
   ],
   "source": [
    "np.sqrt(y)"
   ]
  },
  {
   "cell_type": "markdown",
   "id": "db636a18",
   "metadata": {},
   "source": [
    "Cosider two 2D arrays"
   ]
  },
  {
   "cell_type": "code",
   "execution_count": 53,
   "id": "62933ebe",
   "metadata": {},
   "outputs": [],
   "source": [
    "c= np.array( [[2,4], [6,7]])"
   ]
  },
  {
   "cell_type": "code",
   "execution_count": 54,
   "id": "1d185316",
   "metadata": {},
   "outputs": [],
   "source": [
    "d=np.array( [[1,1], [1,1]])"
   ]
  },
  {
   "cell_type": "code",
   "execution_count": 55,
   "id": "982cbeae",
   "metadata": {},
   "outputs": [
    {
     "data": {
      "text/plain": [
       "array([[3, 5],\n",
       "       [7, 8]])"
      ]
     },
     "execution_count": 55,
     "metadata": {},
     "output_type": "execute_result"
    }
   ],
   "source": [
    "c+d"
   ]
  },
  {
   "cell_type": "code",
   "execution_count": 56,
   "id": "31f7b836",
   "metadata": {},
   "outputs": [
    {
     "data": {
      "text/plain": [
       "array([[1, 3],\n",
       "       [5, 6]])"
      ]
     },
     "execution_count": 56,
     "metadata": {},
     "output_type": "execute_result"
    }
   ],
   "source": [
    "c-d"
   ]
  },
  {
   "cell_type": "code",
   "execution_count": 57,
   "id": "4af3b731",
   "metadata": {},
   "outputs": [
    {
     "data": {
      "text/plain": [
       "array([[2, 4],\n",
       "       [6, 7]])"
      ]
     },
     "execution_count": 57,
     "metadata": {},
     "output_type": "execute_result"
    }
   ],
   "source": [
    "c*d"
   ]
  },
  {
   "cell_type": "markdown",
   "id": "d7f856a1",
   "metadata": {},
   "source": [
    "Indexing /Slicing "
   ]
  },
  {
   "cell_type": "code",
   "execution_count": 58,
   "id": "7ca4a544",
   "metadata": {},
   "outputs": [],
   "source": [
    "t= [9,3,5]"
   ]
  },
  {
   "cell_type": "code",
   "execution_count": 61,
   "id": "e0abfa6a",
   "metadata": {},
   "outputs": [
    {
     "data": {
      "text/plain": [
       "[9, 3]"
      ]
     },
     "execution_count": 61,
     "metadata": {},
     "output_type": "execute_result"
    }
   ],
   "source": [
    "t[0:2]"
   ]
  },
  {
   "cell_type": "code",
   "execution_count": 62,
   "id": "7190f7d2",
   "metadata": {},
   "outputs": [
    {
     "data": {
      "text/plain": [
       "5"
      ]
     },
     "execution_count": 62,
     "metadata": {},
     "output_type": "execute_result"
    }
   ],
   "source": [
    "t[-1]"
   ]
  },
  {
   "cell_type": "markdown",
   "id": "f0954bf6",
   "metadata": {},
   "source": [
    "Multi Dimensional Array"
   ]
  },
  {
   "cell_type": "code",
   "execution_count": 64,
   "id": "ae20fd74",
   "metadata": {},
   "outputs": [],
   "source": [
    "z= np.array ([[4,6,9],[3,6,2],[2,7,9]])"
   ]
  },
  {
   "cell_type": "code",
   "execution_count": 65,
   "id": "2c77a17a",
   "metadata": {},
   "outputs": [
    {
     "data": {
      "text/plain": [
       "array([[4, 6, 9],\n",
       "       [3, 6, 2],\n",
       "       [2, 7, 9]])"
      ]
     },
     "execution_count": 65,
     "metadata": {},
     "output_type": "execute_result"
    }
   ],
   "source": [
    "z"
   ]
  },
  {
   "cell_type": "code",
   "execution_count": 69,
   "id": "ec5108bb",
   "metadata": {},
   "outputs": [
    {
     "data": {
      "text/plain": [
       "9"
      ]
     },
     "execution_count": 69,
     "metadata": {},
     "output_type": "execute_result"
    }
   ],
   "source": [
    "z[2,2]"
   ]
  },
  {
   "cell_type": "code",
   "execution_count": 68,
   "id": "69b1a1fc",
   "metadata": {},
   "outputs": [
    {
     "data": {
      "text/plain": [
       "7"
      ]
     },
     "execution_count": 68,
     "metadata": {},
     "output_type": "execute_result"
    }
   ],
   "source": [
    "z [2,1]"
   ]
  },
  {
   "cell_type": "code",
   "execution_count": 71,
   "id": "bf5878d0",
   "metadata": {},
   "outputs": [
    {
     "name": "stdout",
     "output_type": "stream",
     "text": [
      "[4 6 9]\n",
      "[3 6 2]\n",
      "[2 7 9]\n"
     ]
    }
   ],
   "source": [
    "for row in z:\n",
    " print(row)"
   ]
  },
  {
   "cell_type": "markdown",
   "id": "26c80f6d",
   "metadata": {},
   "source": [
    "Stacking two arrays"
   ]
  },
  {
   "cell_type": "code",
   "execution_count": 72,
   "id": "bfdf1396",
   "metadata": {},
   "outputs": [],
   "source": [
    "a = np.arange(9).reshape(3,3)"
   ]
  },
  {
   "cell_type": "code",
   "execution_count": 73,
   "id": "7f8057e5",
   "metadata": {},
   "outputs": [
    {
     "data": {
      "text/plain": [
       "array([[0, 1, 2],\n",
       "       [3, 4, 5],\n",
       "       [6, 7, 8]])"
      ]
     },
     "execution_count": 73,
     "metadata": {},
     "output_type": "execute_result"
    }
   ],
   "source": [
    "a"
   ]
  },
  {
   "cell_type": "code",
   "execution_count": 79,
   "id": "058cc161",
   "metadata": {},
   "outputs": [],
   "source": [
    "b = np.arange(9,18).reshape(3,3)"
   ]
  },
  {
   "cell_type": "code",
   "execution_count": 80,
   "id": "a3421bff",
   "metadata": {},
   "outputs": [
    {
     "data": {
      "text/plain": [
       "array([[ 9, 10, 11],\n",
       "       [12, 13, 14],\n",
       "       [15, 16, 17]])"
      ]
     },
     "execution_count": 80,
     "metadata": {},
     "output_type": "execute_result"
    }
   ],
   "source": [
    "b"
   ]
  },
  {
   "cell_type": "code",
   "execution_count": 81,
   "id": "b910fd16",
   "metadata": {},
   "outputs": [
    {
     "data": {
      "text/plain": [
       "array([[ 9, 10, 11],\n",
       "       [12, 13, 14],\n",
       "       [15, 16, 17],\n",
       "       [ 9, 10, 11],\n",
       "       [12, 13, 14],\n",
       "       [15, 16, 17]])"
      ]
     },
     "execution_count": 81,
     "metadata": {},
     "output_type": "execute_result"
    }
   ],
   "source": [
    "np.vstack((a,b))"
   ]
  },
  {
   "cell_type": "code",
   "execution_count": 82,
   "id": "e68c2303",
   "metadata": {},
   "outputs": [
    {
     "data": {
      "text/plain": [
       "array([[ 9, 10, 11,  9, 10, 11],\n",
       "       [12, 13, 14, 12, 13, 14],\n",
       "       [15, 16, 17, 15, 16, 17]])"
      ]
     },
     "execution_count": 82,
     "metadata": {},
     "output_type": "execute_result"
    }
   ],
   "source": [
    "np.hstack((a,b))"
   ]
  },
  {
   "cell_type": "code",
   "execution_count": 89,
   "id": "3f70683d",
   "metadata": {},
   "outputs": [],
   "source": [
    "h=np.arange(30).reshape(2,15)"
   ]
  },
  {
   "cell_type": "code",
   "execution_count": 87,
   "id": "1a29206f",
   "metadata": {
    "scrolled": true
   },
   "outputs": [
    {
     "data": {
      "text/plain": [
       "array([[ 0,  1,  2,  3,  4,  5,  6,  7,  8,  9, 10, 11, 12, 13, 14],\n",
       "       [15, 16, 17, 18, 19, 20, 21, 22, 23, 24, 25, 26, 27, 28, 29]])"
      ]
     },
     "execution_count": 87,
     "metadata": {},
     "output_type": "execute_result"
    }
   ],
   "source": [
    "h"
   ]
  },
  {
   "cell_type": "code",
   "execution_count": null,
   "id": "f043bec5",
   "metadata": {},
   "outputs": [],
   "source": [
    "Splitting the array into smaller arrays"
   ]
  },
  {
   "cell_type": "code",
   "execution_count": 91,
   "id": "e3808beb",
   "metadata": {},
   "outputs": [
    {
     "data": {
      "text/plain": [
       "[array([[ 0,  1,  2,  3,  4],\n",
       "        [15, 16, 17, 18, 19]]),\n",
       " array([[ 5,  6,  7,  8,  9],\n",
       "        [20, 21, 22, 23, 24]]),\n",
       " array([[10, 11, 12, 13, 14],\n",
       "        [25, 26, 27, 28, 29]])]"
      ]
     },
     "execution_count": 91,
     "metadata": {},
     "output_type": "execute_result"
    }
   ],
   "source": [
    "np.hsplit(h,3)"
   ]
  },
  {
   "cell_type": "code",
   "execution_count": 93,
   "id": "0a83aa23",
   "metadata": {},
   "outputs": [],
   "source": [
    "d=np.vsplit(h,2)"
   ]
  },
  {
   "cell_type": "code",
   "execution_count": 94,
   "id": "2e865cad",
   "metadata": {},
   "outputs": [
    {
     "data": {
      "text/plain": [
       "array([[ 0,  1,  2,  3,  4,  5,  6,  7,  8,  9, 10, 11, 12, 13, 14]])"
      ]
     },
     "execution_count": 94,
     "metadata": {},
     "output_type": "execute_result"
    }
   ],
   "source": [
    "d[0]"
   ]
  },
  {
   "cell_type": "code",
   "execution_count": 95,
   "id": "fc3e9c98",
   "metadata": {},
   "outputs": [
    {
     "data": {
      "text/plain": [
       "array([[15, 16, 17, 18, 19, 20, 21, 22, 23, 24, 25, 26, 27, 28, 29]])"
      ]
     },
     "execution_count": 95,
     "metadata": {},
     "output_type": "execute_result"
    }
   ],
   "source": [
    "d[1]"
   ]
  },
  {
   "cell_type": "code",
   "execution_count": 97,
   "id": "a1ba0164",
   "metadata": {},
   "outputs": [],
   "source": [
    "s = np.arange(12).reshape(3,4)\n"
   ]
  },
  {
   "cell_type": "code",
   "execution_count": 98,
   "id": "564265f7",
   "metadata": {},
   "outputs": [
    {
     "data": {
      "text/plain": [
       "array([[ 0,  1,  2,  3],\n",
       "       [ 4,  5,  6,  7],\n",
       "       [ 8,  9, 10, 11]])"
      ]
     },
     "execution_count": 98,
     "metadata": {},
     "output_type": "execute_result"
    }
   ],
   "source": [
    "s"
   ]
  },
  {
   "cell_type": "code",
   "execution_count": 99,
   "id": "12623762",
   "metadata": {},
   "outputs": [],
   "source": [
    "c = s>4"
   ]
  },
  {
   "cell_type": "code",
   "execution_count": 100,
   "id": "8f2e2435",
   "metadata": {
    "scrolled": true
   },
   "outputs": [
    {
     "data": {
      "text/plain": [
       "array([[False, False, False, False],\n",
       "       [False,  True,  True,  True],\n",
       "       [ True,  True,  True,  True]])"
      ]
     },
     "execution_count": 100,
     "metadata": {},
     "output_type": "execute_result"
    }
   ],
   "source": [
    "c"
   ]
  },
  {
   "cell_type": "markdown",
   "id": "7b60469e",
   "metadata": {},
   "source": [
    "Solving System of Linear Equations - If we consider the equations 2.0x1+4.0x2=4, 2.0x1+1.0x2=6"
   ]
  },
  {
   "cell_type": "code",
   "execution_count": 101,
   "id": "af9a066d",
   "metadata": {},
   "outputs": [],
   "source": [
    "X = np.array([\n",
    "        [2., 4.],\n",
    "        [2., 1.]], dtype=np.dtype(int))\n",
    "\n",
    "y = np.array([4., 6.], dtype=np.dtype(int))\n"
   ]
  },
  {
   "cell_type": "code",
   "execution_count": 102,
   "id": "c736b126",
   "metadata": {},
   "outputs": [
    {
     "data": {
      "text/plain": [
       "array([[2, 4],\n",
       "       [2, 1]])"
      ]
     },
     "execution_count": 102,
     "metadata": {},
     "output_type": "execute_result"
    }
   ],
   "source": [
    "X"
   ]
  },
  {
   "cell_type": "code",
   "execution_count": 103,
   "id": "cea46f9a",
   "metadata": {},
   "outputs": [
    {
     "data": {
      "text/plain": [
       "array([4, 6])"
      ]
     },
     "execution_count": 103,
     "metadata": {},
     "output_type": "execute_result"
    }
   ],
   "source": [
    "y"
   ]
  },
  {
   "cell_type": "code",
   "execution_count": 105,
   "id": "895881c4",
   "metadata": {},
   "outputs": [
    {
     "data": {
      "text/plain": [
       "(2, 2)"
      ]
     },
     "execution_count": 105,
     "metadata": {},
     "output_type": "execute_result"
    }
   ],
   "source": [
    "X.shape"
   ]
  },
  {
   "cell_type": "code",
   "execution_count": 106,
   "id": "6e390b98",
   "metadata": {},
   "outputs": [
    {
     "data": {
      "text/plain": [
       "(2,)"
      ]
     },
     "execution_count": 106,
     "metadata": {},
     "output_type": "execute_result"
    }
   ],
   "source": [
    "y.shape"
   ]
  },
  {
   "cell_type": "code",
   "execution_count": 107,
   "id": "84c4248c",
   "metadata": {},
   "outputs": [],
   "source": [
    "z=np.linalg.solve(X,y)"
   ]
  },
  {
   "cell_type": "code",
   "execution_count": 108,
   "id": "5e7f106c",
   "metadata": {},
   "outputs": [
    {
     "data": {
      "text/plain": [
       "array([ 3.33333333, -0.66666667])"
      ]
     },
     "execution_count": 108,
     "metadata": {},
     "output_type": "execute_result"
    }
   ],
   "source": [
    "z"
   ]
  },
  {
   "cell_type": "code",
   "execution_count": 112,
   "id": "3d7ae026",
   "metadata": {},
   "outputs": [],
   "source": [
    "q=np.linalg.det(X)"
   ]
  },
  {
   "cell_type": "code",
   "execution_count": 113,
   "id": "a623f49b",
   "metadata": {},
   "outputs": [
    {
     "data": {
      "text/plain": [
       "-6.0"
      ]
     },
     "execution_count": 113,
     "metadata": {},
     "output_type": "execute_result"
    }
   ],
   "source": [
    "q"
   ]
  },
  {
   "cell_type": "markdown",
   "id": "ab8a3e8c",
   "metadata": {},
   "source": [
    "The result is a non zero value that means this system has only one solution."
   ]
  },
  {
   "cell_type": "markdown",
   "id": "fcab1a73",
   "metadata": {},
   "source": [
    "Multiplying Vector with a Scalar "
   ]
  },
  {
   "cell_type": "code",
   "execution_count": 114,
   "id": "9d0b9d88",
   "metadata": {},
   "outputs": [
    {
     "data": {
      "text/plain": [
       "array([5.2, 7.8])"
      ]
     },
     "execution_count": 114,
     "metadata": {},
     "output_type": "execute_result"
    }
   ],
   "source": [
    "vec = np.array([2, 3])\n",
    "vec * 2.6"
   ]
  },
  {
   "cell_type": "markdown",
   "id": "ab3445ce",
   "metadata": {},
   "source": [
    "Matrix Multiplication"
   ]
  },
  {
   "cell_type": "code",
   "execution_count": 115,
   "id": "89a18917",
   "metadata": {},
   "outputs": [
    {
     "data": {
      "text/plain": [
       "array([[366, 396, 426],\n",
       "       [474, 513, 552],\n",
       "       [582, 630, 678]])"
      ]
     },
     "execution_count": 115,
     "metadata": {},
     "output_type": "execute_result"
    }
   ],
   "source": [
    "np.matmul(a, b)"
   ]
  },
  {
   "cell_type": "code",
   "execution_count": 116,
   "id": "c83fbd5b",
   "metadata": {},
   "outputs": [
    {
     "data": {
      "text/plain": [
       "array([[366, 396, 426],\n",
       "       [474, 513, 552],\n",
       "       [582, 630, 678]])"
      ]
     },
     "execution_count": 116,
     "metadata": {},
     "output_type": "execute_result"
    }
   ],
   "source": [
    "a @ b"
   ]
  },
  {
   "cell_type": "code",
   "execution_count": 119,
   "id": "98f9618e",
   "metadata": {},
   "outputs": [],
   "source": [
    "a1=np.array([[4,3,4],[8,3,2],[3,2,7]])\n",
    "b1=np.array([[3,2],[2,1],[8,9]])"
   ]
  },
  {
   "cell_type": "code",
   "execution_count": null,
   "id": "4583043e",
   "metadata": {},
   "outputs": [],
   "source": [
    "Outputs a 3x 2 matrix;With matrix multiplication it is important that\n",
    "the number of the columns in the first matrix should match the number of the rows in the second matrix"
   ]
  },
  {
   "cell_type": "code",
   "execution_count": 122,
   "id": "4f94ec25",
   "metadata": {},
   "outputs": [
    {
     "data": {
      "text/plain": [
       "array([[50, 47],\n",
       "       [46, 37],\n",
       "       [69, 71]])"
      ]
     },
     "execution_count": 122,
     "metadata": {},
     "output_type": "execute_result"
    }
   ],
   "source": [
    "a1 @ b1"
   ]
  },
  {
   "cell_type": "code",
   "execution_count": null,
   "id": "a4a4e80c",
   "metadata": {},
   "outputs": [],
   "source": [
    "Try b1 @ a1"
   ]
  },
  {
   "cell_type": "code",
   "execution_count": 124,
   "id": "c77e8480",
   "metadata": {},
   "outputs": [],
   "source": [
    "c1=np.array([4,2,6])\n",
    "d1=np.array([6,1,3])"
   ]
  },
  {
   "cell_type": "code",
   "execution_count": 125,
   "id": "f3eb4480",
   "metadata": {},
   "outputs": [
    {
     "data": {
      "text/plain": [
       "(3,)"
      ]
     },
     "execution_count": 125,
     "metadata": {},
     "output_type": "execute_result"
    }
   ],
   "source": [
    "c1.shape"
   ]
  },
  {
   "cell_type": "code",
   "execution_count": 126,
   "id": "fe998a9d",
   "metadata": {},
   "outputs": [
    {
     "data": {
      "text/plain": [
       "1"
      ]
     },
     "execution_count": 126,
     "metadata": {},
     "output_type": "execute_result"
    }
   ],
   "source": [
    "c1.ndim"
   ]
  },
  {
   "cell_type": "code",
   "execution_count": 127,
   "id": "040661b0",
   "metadata": {},
   "outputs": [
    {
     "data": {
      "text/plain": [
       "(3, 1)"
      ]
     },
     "execution_count": 127,
     "metadata": {},
     "output_type": "execute_result"
    }
   ],
   "source": [
    "c1.reshape(3,1).shape\n"
   ]
  },
  {
   "cell_type": "code",
   "execution_count": 128,
   "id": "773ddb81",
   "metadata": {},
   "outputs": [
    {
     "data": {
      "text/plain": [
       "2"
      ]
     },
     "execution_count": 128,
     "metadata": {},
     "output_type": "execute_result"
    }
   ],
   "source": [
    "c1.reshape(3,1).ndim"
   ]
  },
  {
   "cell_type": "code",
   "execution_count": 129,
   "id": "8ef8cfbb",
   "metadata": {},
   "outputs": [
    {
     "data": {
      "text/plain": [
       "44"
      ]
     },
     "execution_count": 129,
     "metadata": {},
     "output_type": "execute_result"
    }
   ],
   "source": [
    "np.matmul(c1,d1)"
   ]
  },
  {
   "cell_type": "code",
   "execution_count": 130,
   "id": "e27e8ff6",
   "metadata": {},
   "outputs": [
    {
     "data": {
      "text/plain": [
       "44"
      ]
     },
     "execution_count": 130,
     "metadata": {},
     "output_type": "execute_result"
    }
   ],
   "source": [
    "np.dot(c1,d1)"
   ]
  },
  {
   "cell_type": "code",
   "execution_count": 131,
   "id": "f407134a",
   "metadata": {},
   "outputs": [
    {
     "data": {
      "text/plain": [
       "array([ 0, -2,  2])"
      ]
     },
     "execution_count": 131,
     "metadata": {},
     "output_type": "execute_result"
    }
   ],
   "source": [
    "c1-4"
   ]
  },
  {
   "cell_type": "code",
   "execution_count": null,
   "id": "336e25ac",
   "metadata": {},
   "outputs": [],
   "source": [
    "This is called broadcasting,where the subtraction is done element by element "
   ]
  },
  {
   "cell_type": "code",
   "execution_count": 4,
   "id": "dece3a3c",
   "metadata": {},
   "outputs": [
    {
     "data": {
      "text/plain": [
       "array([[ 3, -2],\n",
       "       [-1,  4]])"
      ]
     },
     "execution_count": 4,
     "metadata": {},
     "output_type": "execute_result"
    }
   ],
   "source": [
    "S = np.array([[3, -2],[-1,4]])\n",
    "S"
   ]
  },
  {
   "cell_type": "code",
   "execution_count": 147,
   "id": "34b7c1de",
   "metadata": {},
   "outputs": [
    {
     "data": {
      "text/plain": [
       "array([[0.4, 0.2],\n",
       "       [0.1, 0.3]])"
      ]
     },
     "execution_count": 147,
     "metadata": {},
     "output_type": "execute_result"
    }
   ],
   "source": [
    "K=np.linalg.inv(S)\n",
    "K"
   ]
  },
  {
   "cell_type": "code",
   "execution_count": 5,
   "id": "dd0c72a7",
   "metadata": {},
   "outputs": [
    {
     "data": {
      "text/plain": [
       "[[1], [3]]"
      ]
     },
     "execution_count": 5,
     "metadata": {},
     "output_type": "execute_result"
    }
   ],
   "source": [
    "Y= ([[1],[3]])\n",
    "Y"
   ]
  },
  {
   "cell_type": "code",
   "execution_count": 151,
   "id": "d5e33091",
   "metadata": {},
   "outputs": [
    {
     "data": {
      "text/plain": [
       "array([[1.],\n",
       "       [1.]])"
      ]
     },
     "execution_count": 151,
     "metadata": {},
     "output_type": "execute_result"
    }
   ],
   "source": [
    "K@Y"
   ]
  },
  {
   "cell_type": "code",
   "execution_count": 6,
   "id": "97992edd",
   "metadata": {},
   "outputs": [],
   "source": [
    "w= np.linalg.solve(S,Y)"
   ]
  },
  {
   "cell_type": "code",
   "execution_count": 7,
   "id": "bf26841e",
   "metadata": {},
   "outputs": [
    {
     "data": {
      "text/plain": [
       "array([[1.],\n",
       "       [1.]])"
      ]
     },
     "execution_count": 7,
     "metadata": {},
     "output_type": "execute_result"
    }
   ],
   "source": [
    "w"
   ]
  },
  {
   "cell_type": "code",
   "execution_count": null,
   "id": "206d0dc1",
   "metadata": {},
   "outputs": [],
   "source": []
  }
 ],
 "metadata": {
  "kernelspec": {
   "display_name": "Python 3 (ipykernel)",
   "language": "python",
   "name": "python3"
  },
  "language_info": {
   "codemirror_mode": {
    "name": "ipython",
    "version": 3
   },
   "file_extension": ".py",
   "mimetype": "text/x-python",
   "name": "python",
   "nbconvert_exporter": "python",
   "pygments_lexer": "ipython3",
   "version": "3.8.10"
  }
 },
 "nbformat": 4,
 "nbformat_minor": 5
}
